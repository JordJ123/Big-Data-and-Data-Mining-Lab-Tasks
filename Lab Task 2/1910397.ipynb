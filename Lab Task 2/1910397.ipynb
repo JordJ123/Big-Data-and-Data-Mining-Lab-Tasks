{
 "cells": [
  {
   "cell_type": "code",
   "execution_count": 1,
   "id": "2293d321-0d01-41a5-9a4d-9085356748ef",
   "metadata": {},
   "outputs": [],
   "source": [
    "from sklearn import datasets\n",
    "import math\n",
    "import numpy\n",
    "import statistics"
   ]
  },
  {
   "cell_type": "markdown",
   "id": "170857ab-1f1f-4862-a7a2-c54ecc30ebbc",
   "metadata": {},
   "source": [
    "# Cross Validation"
   ]
  },
  {
   "cell_type": "code",
   "execution_count": 2,
   "id": "4ed72756-8ea6-4204-b2d7-d8d15f563cb4",
   "metadata": {},
   "outputs": [],
   "source": [
    "#Sets the train and test data\n",
    "id = datasets.load_iris().data\n",
    "train = numpy.concatenate((id[0:40], id[50:90], id[100:140]))\n",
    "test = numpy.concatenate((id[40:50], id[90:100], id[140:150]))"
   ]
  },
  {
   "cell_type": "markdown",
   "id": "a6f9c371-b547-41a9-82ad-3d31ca51b9f4",
   "metadata": {},
   "source": [
    "# Likelihood"
   ]
  },
  {
   "cell_type": "code",
   "execution_count": 3,
   "id": "72f13aa0-f4cd-47b2-add8-69c5f48093e0",
   "metadata": {},
   "outputs": [
    {
     "name": "stdout",
     "output_type": "stream",
     "text": [
      "[[5.0375, 3.4525000000000006, 1.46, 0.23500000000000001], [6.01, 2.78, 4.3175, 1.35], [6.6225, 2.96, 5.6075, 1.9899999999999998]]\n",
      "[[0.36210743553784547, 0.3609016486523718, 0.17216569240422333, 0.09753368911725073], [0.5232051124975651, 0.3329741654720301, 0.4511452662746793, 0.20754980866510833], [0.6840630875089722, 0.3364977997413493, 0.5876452357306431, 0.2725002940483005]]\n"
     ]
    }
   ],
   "source": [
    "#Calculates the means and standard deviations\n",
    "means = []\n",
    "sds = []\n",
    "for i in range(0,3):\n",
    "    categoryMeans = []\n",
    "    categorySds = []\n",
    "    for f in range(0,4):\n",
    "        feature = []\n",
    "        for sample in train[(i*40):(i*40)+40]:\n",
    "            feature.append(sample[f])\n",
    "        categoryMeans.append(numpy.mean(feature))\n",
    "        categorySds.append(statistics.stdev(feature))\n",
    "    means.append(categoryMeans)\n",
    "    sds.append(categorySds)\n",
    "print(means)\n",
    "print(sds)"
   ]
  },
  {
   "cell_type": "code",
   "execution_count": 4,
   "id": "abdddc40-4cea-4ac2-a67a-583dfb566b25",
   "metadata": {},
   "outputs": [],
   "source": [
    "#Calculates the likelihood the feature value is part of the given category\n",
    "def likelihood(x, c, f):\n",
    "    mean = means[c][f]\n",
    "    sd = sds[c][f]\n",
    "    part1 = 1 / (math.sqrt(2*math.pi) * sd)\n",
    "    part2 = (-((x-mean)**2)) / (2 * sd**2)\n",
    "    return part1 * math.exp(part2)"
   ]
  },
  {
   "cell_type": "markdown",
   "id": "0ec24a3a-1b17-49c7-8e42-4213abe39b6d",
   "metadata": {},
   "source": [
    "# Priori"
   ]
  },
  {
   "cell_type": "code",
   "execution_count": 5,
   "id": "6e28bd90-2b96-4a9f-8314-b9adb213c333",
   "metadata": {},
   "outputs": [],
   "source": [
    "#Priori probability for each category\n",
    "priori = [40/120, 40/120, 40/120]"
   ]
  },
  {
   "cell_type": "markdown",
   "id": "5734e163-aa63-48ee-8173-5aee5a1759da",
   "metadata": {},
   "source": [
    "# Posterior"
   ]
  },
  {
   "cell_type": "code",
   "execution_count": 6,
   "id": "2d6e0218-e8cc-4aa3-8084-72a51f03d31a",
   "metadata": {},
   "outputs": [],
   "source": [
    "#Calculates the category the sample is most likely part of\n",
    "def posterior(s):\n",
    "    \n",
    "    #Gets the probabilites for each category\n",
    "    probs = []\n",
    "    sampleProb = 0\n",
    "    for c in range(0,3):\n",
    "        lh = 1\n",
    "        for f in range(0,4):\n",
    "            lh = lh * likelihood(s[f], c, f)\n",
    "        probs.append(lh * priori[c])\n",
    "        sampleProb += probs[c]\n",
    "    for c in range(0,3):\n",
    "        probs[c] = probs[c] / sampleProb\n",
    "        \n",
    "    #Gets the category with the highest probabilility\n",
    "    biggest = -1\n",
    "    i = -1\n",
    "    for c in range(0,3):\n",
    "        if (probs[c] > biggest):\n",
    "            biggest = probs[c]\n",
    "            i = c\n",
    "    print(f\"{s} is predicted to be in category {i} with the probability of {probs[i]}\")\n",
    "    return i"
   ]
  },
  {
   "cell_type": "code",
   "execution_count": 7,
   "id": "61240c1d-55a1-43c7-b537-6f5813c40ab9",
   "metadata": {},
   "outputs": [
    {
     "name": "stdout",
     "output_type": "stream",
     "text": [
      "[5.  3.5 1.3 0.3] is predicted to be in category 0 with the probability of 1.0\n",
      "[4.5 2.3 1.3 0.3] is predicted to be in category 0 with the probability of 0.9999999999999999\n",
      "[4.4 3.2 1.3 0.2] is predicted to be in category 0 with the probability of 1.0\n",
      "[5.  3.5 1.6 0.6] is predicted to be in category 0 with the probability of 0.9999999999652412\n",
      "[5.1 3.8 1.9 0.4] is predicted to be in category 0 with the probability of 0.9999999999995934\n",
      "[4.8 3.  1.4 0.3] is predicted to be in category 0 with the probability of 1.0\n",
      "[5.1 3.8 1.6 0.2] is predicted to be in category 0 with the probability of 1.0\n",
      "[4.6 3.2 1.4 0.2] is predicted to be in category 0 with the probability of 1.0\n",
      "[5.3 3.7 1.5 0.2] is predicted to be in category 0 with the probability of 1.0\n",
      "[5.  3.3 1.4 0.2] is predicted to be in category 0 with the probability of 1.0\n",
      "[5.5 2.6 4.4 1.2] is predicted to be in category 1 with the probability of 0.999760380828135\n",
      "[6.1 3.  4.6 1.4] is predicted to be in category 1 with the probability of 0.9896785037569378\n",
      "[5.8 2.6 4.  1.2] is predicted to be in category 1 with the probability of 0.9999278509961866\n",
      "[5.  2.3 3.3 1. ] is predicted to be in category 1 with the probability of 0.9999983341687021\n",
      "[5.6 2.7 4.2 1.3] is predicted to be in category 1 with the probability of 0.9996928871641605\n",
      "[5.7 3.  4.2 1.2] is predicted to be in category 1 with the probability of 0.9997516797948985\n",
      "[5.7 2.9 4.2 1.3] is predicted to be in category 1 with the probability of 0.9995395559694527\n",
      "[6.2 2.9 4.3 1.3] is predicted to be in category 1 with the probability of 0.9987571359910412\n",
      "[5.1 2.5 3.  1.1] is predicted to be in category 1 with the probability of 0.9999973723087955\n",
      "[5.7 2.8 4.1 1.3] is predicted to be in category 1 with the probability of 0.999724247327098\n",
      "[6.7 3.1 5.6 2.4] is predicted to be in category 2 with the probability of 0.9999999359277605\n",
      "[6.9 3.1 5.1 2.3] is predicted to be in category 2 with the probability of 0.9999950187497162\n",
      "[5.8 2.7 5.1 1.9] is predicted to be in category 2 with the probability of 0.9504996722544734\n",
      "[6.8 3.2 5.9 2.3] is predicted to be in category 2 with the probability of 0.9999999639246829\n",
      "[6.7 3.3 5.7 2.5] is predicted to be in category 2 with the probability of 0.9999999967612259\n",
      "[6.7 3.  5.2 2.3] is predicted to be in category 2 with the probability of 0.9999943440648328\n",
      "[6.3 2.5 5.  1.9] is predicted to be in category 2 with the probability of 0.9428644980486347\n",
      "[6.5 3.  5.2 2. ] is predicted to be in category 2 with the probability of 0.9986134108533579\n",
      "[6.2 3.4 5.4 2.3] is predicted to be in category 2 with the probability of 0.9999975682377892\n",
      "[5.9 3.  5.1 1.8] is predicted to be in category 2 with the probability of 0.8978636583918419\n"
     ]
    }
   ],
   "source": [
    "#Predicts the categories for all of the test data\n",
    "testPredictions = []\n",
    "for s in range(0,len(test)):\n",
    "    testPredictions.append(posterior(test[s]))"
   ]
  },
  {
   "cell_type": "markdown",
   "id": "d4a6d1bc-d8dd-40b1-8fee-ab3161877a91",
   "metadata": {},
   "source": [
    "# Evaluation"
   ]
  },
  {
   "cell_type": "code",
   "execution_count": 9,
   "id": "c6832c29-9997-4828-8334-4a1fc51c4d12",
   "metadata": {},
   "outputs": [
    {
     "name": "stdout",
     "output_type": "stream",
     "text": [
      "Category 0 has an accuracy of 1.0\n",
      "Category 1 has an accuracy of 1.0\n",
      "Category 2 has an accuracy of 1.0\n"
     ]
    }
   ],
   "source": [
    "#Checks the accuracy of the test data predictions\n",
    "third = len(test) / 3\n",
    "for c in range(0,3):\n",
    "    TP = 0\n",
    "    TN = 0\n",
    "    FP = 0\n",
    "    FN = 0\n",
    "    for s in range(0, len(test)):\n",
    "        sample = testPredictions[s]\n",
    "        if sample == c:\n",
    "            if s < (c+1)*third and s >= c*third:\n",
    "                TP += 1\n",
    "            else:\n",
    "                FP += 1\n",
    "        else:\n",
    "            if s < (c+1)*third and s >= c*third:\n",
    "                FN += 1\n",
    "            else:\n",
    "                TN += 1\n",
    "    accuracy = (TP + TN) / (len(test))\n",
    "    print(f\"Category {c} has an accuracy of {accuracy}\")"
   ]
  },
  {
   "cell_type": "markdown",
   "id": "dad81b96-946c-403e-b725-0b4971fc1a24",
   "metadata": {},
   "source": [
    "# Challenging Task"
   ]
  },
  {
   "cell_type": "code",
   "execution_count": 10,
   "id": "2b3a8b1e-acb1-4b3a-82da-8afc4e608476",
   "metadata": {},
   "outputs": [
    {
     "name": "stdout",
     "output_type": "stream",
     "text": [
      "Category 2 random sample is [5.857266395649137, 3.2073474950625926, 5.045753769220008, 2.176333949686904]\n",
      "[5.857266395649137, 3.2073474950625926, 5.045753769220008, 2.176333949686904] is predicted to be in category 2 with the probability of 0.9996335061340504\n",
      "\n",
      "Category 2 random sample is [6.397426732528828, 2.9074080170598022, 5.323566666714004, 1.5534268213574236]\n",
      "[6.397426732528828, 2.9074080170598022, 5.323566666714004, 1.5534268213574236] is predicted to be in category 2 with the probability of 0.7464845489413212\n",
      "\n",
      "Category 0 random sample is [4.323971958323481, 3.851102375605368, 1.2627441957137209, 0.25069447276141604]\n",
      "[4.323971958323481, 3.851102375605368, 1.2627441957137209, 0.25069447276141604] is predicted to be in category 0 with the probability of 1.0\n",
      "\n",
      "Category 2 random sample is [6.4298681780003015, 2.848725820667175, 6.007333045058802, 2.0707238361929226]\n",
      "[6.4298681780003015, 2.848725820667175, 6.007333045058802, 2.0707238361929226] is predicted to be in category 2 with the probability of 0.9999964066058138\n",
      "\n",
      "Category 2 random sample is [6.491093009947095, 2.997172593563966, 6.103245385121491, 1.9805526874680768]\n",
      "[6.491093009947095, 2.997172593563966, 6.103245385121491, 1.9805526874680768] is predicted to be in category 2 with the probability of 0.9999950385151479\n",
      "\n",
      "Category 1 random sample is [5.792175150001707, 2.6446717122117676, 4.668269152183243, 1.3035681964937946]\n",
      "[5.792175150001707, 2.6446717122117676, 4.668269152183243, 1.3035681964937946] is predicted to be in category 1 with the probability of 0.9977077181386178\n",
      "\n",
      "Category 2 random sample is [7.096040457657576, 2.9378836499411505, 5.904866912673924, 2.1987969807038903]\n",
      "[7.096040457657576, 2.9378836499411505, 5.904866912673924, 2.1987969807038903] is predicted to be in category 2 with the probability of 0.9999998562125533\n",
      "\n",
      "Category 1 random sample is [6.358229240155194, 3.160765675457135, 4.39832057107423, 1.3473037706996394]\n",
      "[6.358229240155194, 3.160765675457135, 4.39832057107423, 1.3473037706996394] is predicted to be in category 1 with the probability of 0.9944250373196103\n",
      "\n",
      "Category 0 random sample is [4.600936259932604, 3.5187825201488354, 1.488091677828232, 0.2834845144854604]\n",
      "[4.600936259932604, 3.5187825201488354, 1.488091677828232, 0.2834845144854604] is predicted to be in category 0 with the probability of 1.0\n",
      "\n",
      "Category 2 random sample is [5.6040197791755295, 3.0741604682057107, 5.283878167664606, 1.9388954425128546]\n",
      "[5.6040197791755295, 3.0741604682057107, 5.283878167664606, 1.9388954425128546] is predicted to be in category 2 with the probability of 0.9933468681444478\n",
      "\n"
     ]
    }
   ],
   "source": [
    "#Generates n number of samples based on the priori probability\n",
    "for i in range(0,10):\n",
    "    \n",
    "    #Generates sample\n",
    "    sample = []\n",
    "    c = numpy.random.choice(3, p=priori)\n",
    "    for f in range(0,4):\n",
    "        sample.append(numpy.random.normal(means[c][f], sds[c][f]))\n",
    "    print(f\"Category {c} random sample is {sample}\")\n",
    "\n",
    "    #Check if correct\n",
    "    p = posterior(sample)\n",
    "    print()"
   ]
  }
 ],
 "metadata": {
  "kernelspec": {
   "display_name": "Python 3 (ipykernel)",
   "language": "python",
   "name": "python3"
  },
  "language_info": {
   "codemirror_mode": {
    "name": "ipython",
    "version": 3
   },
   "file_extension": ".py",
   "mimetype": "text/x-python",
   "name": "python",
   "nbconvert_exporter": "python",
   "pygments_lexer": "ipython3",
   "version": "3.8.10"
  }
 },
 "nbformat": 4,
 "nbformat_minor": 5
}
