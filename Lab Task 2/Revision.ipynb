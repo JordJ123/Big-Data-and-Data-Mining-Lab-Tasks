{
 "cells": [
  {
   "cell_type": "code",
   "execution_count": 55,
   "id": "79c17518-7cc0-4246-888e-503b3afe39bf",
   "metadata": {},
   "outputs": [],
   "source": [
    "from sklearn import datasets\n",
    "import math\n",
    "import numpy"
   ]
  },
  {
   "cell_type": "markdown",
   "id": "b6e86ac7-eb57-408a-899d-5a47bf349179",
   "metadata": {},
   "source": [
    "# Cross Validation"
   ]
  },
  {
   "cell_type": "code",
   "execution_count": 10,
   "id": "2378076d-7f50-4d22-94e1-55c86f77be68",
   "metadata": {},
   "outputs": [],
   "source": [
    "iris_data = datasets.load_iris().data"
   ]
  },
  {
   "cell_type": "code",
   "execution_count": 11,
   "id": "75cf1168-5cee-4365-9827-b295465c327d",
   "metadata": {},
   "outputs": [],
   "source": [
    "train_setosa = iris_data[0:40]\n",
    "train_versicolor = iris_data[50:90]\n",
    "train_virginica = iris_data[100:140]\n",
    "train = [train_setosa, train_versicolor, train_virginica]"
   ]
  },
  {
   "cell_type": "code",
   "execution_count": 62,
   "id": "58c34769-82cb-4a46-a984-8899c0e5b15a",
   "metadata": {},
   "outputs": [],
   "source": [
    "test_setosa = iris_data[40:50]\n",
    "test_versicolor = iris_data[90:100]\n",
    "test_virginica = iris_data[140:150]\n",
    "test = numpy.concatenate((test_setosa, test_versicolor, test_virginica))"
   ]
  },
  {
   "cell_type": "markdown",
   "id": "f26a66b1-e90d-42cd-b5b0-c56ab8496639",
   "metadata": {},
   "source": [
    "# Likelihood"
   ]
  },
  {
   "cell_type": "code",
   "execution_count": 19,
   "id": "9d59cf60-1def-4676-a09e-6639ec927364",
   "metadata": {},
   "outputs": [
    {
     "name": "stdout",
     "output_type": "stream",
     "text": [
      "[[5.0375, 3.4525000000000006, 1.46, 0.23499999999999993], [6.01, 2.7800000000000007, 4.3175, 1.35], [6.6225, 2.9599999999999995, 5.6075, 1.9899999999999995]]\n",
      "[[0.3621074355378454, 0.3609016486523718, 0.17216569240422339, 0.09753368911725072], [0.5232051124975651, 0.33297416547203007, 0.4511452662746793, 0.2075498086651083], [0.6840630875089724, 0.33649779974134925, 0.587645235730643, 0.2725002940483005]]\n"
     ]
    }
   ],
   "source": [
    "means = []\n",
    "sds = []\n",
    "for category in range(0,3):\n",
    "    categoryMeans = []\n",
    "    categorySds = []\n",
    "    for feature in range(0,4):\n",
    "        meanTotal = 0\n",
    "        for sample in train[category]:\n",
    "            meanTotal += sample[feature]\n",
    "        mean = meanTotal / len(train[category])\n",
    "        categoryMeans.append(mean)\n",
    "        sdTotal = 0\n",
    "        for sample in train[category]:\n",
    "            sdTotal += (sample[feature] - mean) ** 2\n",
    "        sd = math.sqrt(sdTotal / (len(train[category]) -  1))\n",
    "        categorySds.append(sd)\n",
    "    means.append(categoryMeans)\n",
    "    sds.append(categorySds)\n",
    "print(means)\n",
    "print(sds)"
   ]
  },
  {
   "cell_type": "code",
   "execution_count": 57,
   "id": "05d82c95-7b6e-4dde-9d9f-ae5fa6f04aac",
   "metadata": {},
   "outputs": [],
   "source": [
    "def likelihood(x, category, feature):\n",
    "    mean = means[category][feature]\n",
    "    sd = sds[category][feature]\n",
    "    part1 = 1 / (math.sqrt(2 * math.pi) * sd)\n",
    "    part2 = -1 * ( ((x[feature] - mean) ** 2) / (2 * (sd ** 2)) )\n",
    "    return part1 * (math.e ** part2)"
   ]
  },
  {
   "cell_type": "markdown",
   "id": "d2cb3c46-8deb-4013-8008-b3001e833d2b",
   "metadata": {},
   "source": [
    "# Priori"
   ]
  },
  {
   "cell_type": "code",
   "execution_count": 87,
   "id": "a5ebfa1e-8589-405f-9412-bfc95c11b6da",
   "metadata": {},
   "outputs": [
    {
     "name": "stdout",
     "output_type": "stream",
     "text": [
      "[0.3333333333333333, 0.3333333333333333, 0.3333333333333333]\n"
     ]
    }
   ],
   "source": [
    "length = 0\n",
    "for i in range(0,len(train)):\n",
    "    length += len(train[i])\n",
    "prior_setosa = len(train_setosa) / length\n",
    "prior_versicolor = len(train_versicolor) / length\n",
    "prior_virginica = len(train_virginica) / length\n",
    "prior = [prior_setosa, prior_versicolor, prior_virginica]"
   ]
  },
  {
   "cell_type": "markdown",
   "id": "b42f987d-6518-41b7-9db5-af4e830ae7c9",
   "metadata": {},
   "source": [
    "# Posterior"
   ]
  },
  {
   "cell_type": "code",
   "execution_count": 59,
   "id": "11556588-673e-4881-b8db-e42d96ef11be",
   "metadata": {},
   "outputs": [],
   "source": [
    "def posteriors(x):\n",
    "    topLines = []\n",
    "    topTotal = 0\n",
    "    for category in range(0,3):\n",
    "        lh = 1\n",
    "        for feature in range(0,4):\n",
    "            lh = lh * likelihood(x, category, feature)\n",
    "        topLine = lh * prior[category]\n",
    "        topLines.append(topLine)\n",
    "        topTotal += topLine\n",
    "    probs = []\n",
    "    for category in range(0,3):\n",
    "        probs.append(topLines[category] / topTotal)\n",
    "    return probs"
   ]
  },
  {
   "cell_type": "code",
   "execution_count": 66,
   "id": "8f598d2f-e464-4bb2-9b35-a02e3f1f8ad6",
   "metadata": {},
   "outputs": [],
   "source": [
    "def naives(x):\n",
    "    probs = posteriors(x)\n",
    "    highestCategory = -1\n",
    "    highestValue = -1\n",
    "    for category in range(0,3):\n",
    "        if probs[category] > highestValue:\n",
    "            highestCategory = category\n",
    "            highestValue = probs[category]\n",
    "    return (highestCategory, highestValue)"
   ]
  },
  {
   "cell_type": "code",
   "execution_count": 71,
   "id": "e7a5f5f5-cbf1-4ef9-8642-72e64f93a326",
   "metadata": {},
   "outputs": [
    {
     "name": "stdout",
     "output_type": "stream",
     "text": [
      "Sample 1 is predicted to be in category 0 with probability 1.0\n",
      "Sample 2 is predicted to be in category 0 with probability 0.9999999999999997\n",
      "Sample 3 is predicted to be in category 0 with probability 1.0\n",
      "Sample 4 is predicted to be in category 0 with probability 0.999999999939639\n",
      "Sample 5 is predicted to be in category 0 with probability 0.999999999999211\n",
      "Sample 6 is predicted to be in category 0 with probability 1.0\n",
      "Sample 7 is predicted to be in category 0 with probability 1.0\n",
      "Sample 8 is predicted to be in category 0 with probability 1.0\n",
      "Sample 9 is predicted to be in category 0 with probability 1.0\n",
      "Sample 10 is predicted to be in category 0 with probability 1.0\n",
      "Sample 11 is predicted to be in category 1 with probability 0.9997108265528957\n",
      "Sample 12 is predicted to be in category 1 with probability 0.9886761171237923\n",
      "Sample 13 is predicted to be in category 1 with probability 0.9999102746460449\n",
      "Sample 14 is predicted to be in category 1 with probability 0.9999977236503249\n",
      "Sample 15 is predicted to be in category 1 with probability 0.9996316721086167\n",
      "Sample 16 is predicted to be in category 1 with probability 0.9997005937340843\n",
      "Sample 17 is predicted to be in category 1 with probability 0.9994533567526221\n",
      "Sample 18 is predicted to be in category 1 with probability 0.9985608264611988\n",
      "Sample 19 is predicted to be in category 1 with probability 0.9999964499574611\n",
      "Sample 20 is predicted to be in category 1 with probability 0.9996683893315989\n",
      "Sample 21 is predicted to be in category 2 with probability 0.9999999010640511\n",
      "Sample 22 is predicted to be in category 2 with probability 0.9999931014947261\n",
      "Sample 23 is predicted to be in category 2 with probability 0.945871873565399\n",
      "Sample 24 is predicted to be in category 2 with probability 0.9999999434892751\n",
      "Sample 25 is predicted to be in category 2 with probability 0.9999999946114474\n",
      "Sample 26 is predicted to be in category 2 with probability 0.9999921919641452\n",
      "Sample 27 is predicted to be in category 2 with probability 0.9377911117756549\n",
      "Sample 28 is predicted to be in category 2 with probability 0.9983323198617022\n",
      "Sample 29 is predicted to be in category 2 with probability 0.9999965713464698\n",
      "Sample 30 is predicted to be in category 2 with probability 0.8908046566160629\n"
     ]
    }
   ],
   "source": [
    "results = []\n",
    "for i in range(0,len(test)):\n",
    "    result = naives(test[i])\n",
    "    results.append(result)\n",
    "    print(f\"Sample {i+1} is predicted to be in category {result[0]} with probability {result[1]}\")"
   ]
  },
  {
   "cell_type": "markdown",
   "id": "fe1bad1e-d0e3-4487-885f-6999a43f220f",
   "metadata": {},
   "source": [
    "# Prediction Accuracy"
   ]
  },
  {
   "cell_type": "code",
   "execution_count": 78,
   "id": "d9daacae-8e17-4491-81a1-9f96bf787dae",
   "metadata": {},
   "outputs": [
    {
     "name": "stdout",
     "output_type": "stream",
     "text": [
      "Accuracy for category 0 is 1.0\n",
      "Accuracy for category 1 is 1.0\n",
      "Accuracy for category 2 is 1.0\n"
     ]
    }
   ],
   "source": [
    "length = len(results)\n",
    "for category in range(0,3):\n",
    "    tp = 0\n",
    "    tn = 0\n",
    "    fp = 0\n",
    "    fn = 0\n",
    "    p = 0\n",
    "    n = 0\n",
    "    top = (length / 3) * (category + 1)\n",
    "    bottom = (length / 3) * category\n",
    "    for i in range(0,length):    \n",
    "        if results[i][0] == category:\n",
    "            p += 1\n",
    "            if (i < top and i >= bottom):\n",
    "                tp += 1\n",
    "            else:\n",
    "                fp += 1\n",
    "        else:\n",
    "            n += 1\n",
    "            if (i < top and i >= bottom):\n",
    "                fn += 1\n",
    "            else:\n",
    "                tn += 1\n",
    "    accuracy = (tp + tn) / (p + n)\n",
    "    print(f\"Accuracy for category {category} is {accuracy}\")"
   ]
  },
  {
   "cell_type": "markdown",
   "id": "3015f1ef-c85f-4e9b-bfa6-eeeedbee5cd2",
   "metadata": {},
   "source": [
    "# Challenging Task"
   ]
  },
  {
   "cell_type": "code",
   "execution_count": 93,
   "id": "16269713-2659-4bfd-8305-e90796fdaa62",
   "metadata": {},
   "outputs": [
    {
     "name": "stdout",
     "output_type": "stream",
     "text": [
      "Category 0 random sample is [5.059115101862955, 3.4151604914435914, 1.6196477577705481, 0.12102076876594636]\n",
      "Sample is predicted to be in category 0 with probability 1.0\n"
     ]
    }
   ],
   "source": [
    "sample = []\n",
    "category = numpy.random.choice(3, p=prior)\n",
    "for feature in range(0,4):\n",
    "    sample.append(numpy.random.normal(means[category][feature], sds[category][feature]))\n",
    "print(f\"Category {category} random sample is {sample}\")\n",
    "result = naives(sample)\n",
    "print(f\"Sample is predicted to be in category {result[0]} with probability {result[1]}\")"
   ]
  },
  {
   "cell_type": "code",
   "execution_count": null,
   "id": "5ad832a0-6ec3-4128-842d-90728cc81137",
   "metadata": {},
   "outputs": [],
   "source": []
  }
 ],
 "metadata": {
  "kernelspec": {
   "display_name": "Python 3 (ipykernel)",
   "language": "python",
   "name": "python3"
  },
  "language_info": {
   "codemirror_mode": {
    "name": "ipython",
    "version": 3
   },
   "file_extension": ".py",
   "mimetype": "text/x-python",
   "name": "python",
   "nbconvert_exporter": "python",
   "pygments_lexer": "ipython3",
   "version": "3.8.10"
  }
 },
 "nbformat": 4,
 "nbformat_minor": 5
}
