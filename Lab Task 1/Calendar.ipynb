{
 "cells": [
  {
   "cell_type": "code",
   "execution_count": 1,
   "id": "5a884d2e-0ec1-4b5c-9edd-fa7bfccc3a39",
   "metadata": {},
   "outputs": [],
   "source": [
    "import math"
   ]
  },
  {
   "cell_type": "markdown",
   "id": "d53829c8-d4ac-478f-b635-9dc7c7099cf5",
   "metadata": {},
   "source": [
    "# Leap Years"
   ]
  },
  {
   "cell_type": "code",
   "execution_count": 2,
   "id": "cbed244b-ddc1-41fd-98fa-53ae0fac5392",
   "metadata": {},
   "outputs": [],
   "source": [
    "#Calculates if the given year is a leap year\n",
    "def leapYear(year):\n",
    "    \n",
    "    #Not Divisible by 4 = Common Year\n",
    "    if ((year % 4) != 0):\n",
    "        return False\n",
    "    \n",
    "    #Not Divisible by 100 = Leap Year\n",
    "    if ((year % 100) != 0):\n",
    "        return True\n",
    "    \n",
    "    #Not Divisible by 400 = Common Year\n",
    "    if ((year % 400) != 0):\n",
    "        return False\n",
    "    \n",
    "    #Not Divisible by 3200 = Leap Year\n",
    "    if ((year % 3200) != 0):\n",
    "        return True\n",
    "    \n",
    "    #Divisible by All = Common Year\n",
    "    return False"
   ]
  },
  {
   "cell_type": "code",
   "execution_count": 3,
   "id": "5e516192-9920-4738-ba93-52f47ba1db81",
   "metadata": {},
   "outputs": [],
   "source": [
    "#Calculates the leap years between a given year range\n",
    "def leapYears(start, end):\n",
    "    \n",
    "    #Calculate leap years\n",
    "    leapYears = []\n",
    "    for i in range(start, end + 1):\n",
    "        if (leapYear(i)):\n",
    "            leapYears.append(i)\n",
    "    n = str(len(leapYears))\n",
    "    \n",
    "    #Print leap years\n",
    "    print(\"There are \" + n + \" leap years between \" + str(start) + \" and \" + str(end) + \":\")\n",
    "    for i in leapYears:\n",
    "        if (leapYear(i)):\n",
    "            print(i)"
   ]
  },
  {
   "cell_type": "code",
   "execution_count": 12,
   "id": "3440436b-6112-4830-88a2-b4cf087e3ae2",
   "metadata": {},
   "outputs": [
    {
     "data": {
      "text/plain": [
       "False"
      ]
     },
     "execution_count": 12,
     "metadata": {},
     "output_type": "execute_result"
    }
   ],
   "source": [
    "leapYear(2019)"
   ]
  },
  {
   "cell_type": "markdown",
   "id": "9b3b3b35-56fb-441f-bb84-3fc1696ad0dc",
   "metadata": {},
   "source": [
    "# Day of the Week"
   ]
  },
  {
   "cell_type": "code",
   "execution_count": 5,
   "id": "e6a98bb5-f6f0-4e5d-89a3-f5eb07fe45d1",
   "metadata": {},
   "outputs": [],
   "source": [
    "#Calculates the day of the week\n",
    "def dotw(year, month, day):\n",
    "    \n",
    "    #Setup\n",
    "    if (month == 1 or month == 2):\n",
    "        month = month + 12\n",
    "        year = year - 1\n",
    "    yotc = year % 100\n",
    "    zbc = math.floor(year / 100)\n",
    "    \n",
    "    #Logic\n",
    "    p1 = math.floor((13 * (month + 1)) / 5)\n",
    "    p2 = math.floor(yotc / 4)\n",
    "    p3 = math.floor(zbc / 4)\n",
    "    p4 = 2 * zbc\n",
    "    zeller = (day + p1 + yotc + p2 + p3 - p4) % 7\n",
    "    return ((zeller + 5) % 7) + 1"
   ]
  },
  {
   "cell_type": "code",
   "execution_count": 13,
   "id": "9e7caf53-50b2-457a-ab68-1bd549c6b7c4",
   "metadata": {},
   "outputs": [
    {
     "name": "stdout",
     "output_type": "stream",
     "text": [
      "5\n"
     ]
    }
   ],
   "source": [
    "print(dotw(2023, 2, 24))"
   ]
  },
  {
   "cell_type": "markdown",
   "id": "0938b7ce-6381-4b3e-90ed-e7535865b372",
   "metadata": {},
   "source": [
    "# Calendar of the Year"
   ]
  },
  {
   "cell_type": "code",
   "execution_count": 7,
   "id": "94c9b4d9-04af-4487-8729-24354bd568df",
   "metadata": {},
   "outputs": [],
   "source": [
    "#Prints out the calendar of the year\n",
    "def coty(year):\n",
    "    \n",
    "    #Month Values\n",
    "    monthStrings = [\"Jan\", \"Feb\", \"Mar\", \"Apr\", \"May\", \"Jun\", \"Jul\", \"Aug\", \"Sep\", \"Oct\", \n",
    "                    \"Nov\", \"Dec\"]\n",
    "    monthDays = [31, 28, 31, 30, 31, 30, 31, 31, 30, 31, 30, 31]\n",
    "    \n",
    "    #Each Month\n",
    "    for month in range(1, 12 + 1):\n",
    "        \n",
    "        #Set Number of Days\n",
    "        if (month == 2):\n",
    "            if (leapYear(year)):\n",
    "                days = 29\n",
    "            else:\n",
    "                days = 28\n",
    "        else:\n",
    "            days = monthDays[month - 1]\n",
    "    \n",
    "        #Set Year String\n",
    "        yearString = str(year)\n",
    "        while (len(yearString) < 4):\n",
    "            yearString = \" \" + yearString\n",
    "\n",
    "        #Set Day String\n",
    "        dm = 1\n",
    "        dw = dotw(year, month, 1)\n",
    "        string = \"\"\n",
    "        for i in range(1,dw):\n",
    "            string = string + \"    \"\n",
    "        while(dm <= days):\n",
    "            if (dw == 1 and dm != 1):\n",
    "                string = string + \"\\n\"\n",
    "            string = string + \" \"\n",
    "            if (dm < 10):\n",
    "                string = string + \"0\"\n",
    "            string = string + str(dm) + \" \"\n",
    "            dm = dm + 1\n",
    "            dw = dw + 1\n",
    "            if (dw == 8):\n",
    "                dw = 1\n",
    "\n",
    "        #Print\n",
    "        print(\"          \" + monthStrings[month - 1] + \" \" + yearString)\n",
    "        print(\"Mon Tue Wed Thu Fri Sat Sun\")\n",
    "        print(string)\n",
    "        print()"
   ]
  },
  {
   "cell_type": "code",
   "execution_count": 14,
   "id": "1096d5d8-0a5e-40b9-a6c5-b9098593a9e5",
   "metadata": {},
   "outputs": [
    {
     "name": "stdout",
     "output_type": "stream",
     "text": [
      "          Jan 2023\n",
      "Mon Tue Wed Thu Fri Sat Sun\n",
      "                         01 \n",
      " 02  03  04  05  06  07  08 \n",
      " 09  10  11  12  13  14  15 \n",
      " 16  17  18  19  20  21  22 \n",
      " 23  24  25  26  27  28  29 \n",
      " 30  31 \n",
      "\n",
      "          Feb 2023\n",
      "Mon Tue Wed Thu Fri Sat Sun\n",
      "         01  02  03  04  05 \n",
      " 06  07  08  09  10  11  12 \n",
      " 13  14  15  16  17  18  19 \n",
      " 20  21  22  23  24  25  26 \n",
      " 27  28 \n",
      "\n",
      "          Mar 2023\n",
      "Mon Tue Wed Thu Fri Sat Sun\n",
      "         01  02  03  04  05 \n",
      " 06  07  08  09  10  11  12 \n",
      " 13  14  15  16  17  18  19 \n",
      " 20  21  22  23  24  25  26 \n",
      " 27  28  29  30  31 \n",
      "\n",
      "          Apr 2023\n",
      "Mon Tue Wed Thu Fri Sat Sun\n",
      "                     01  02 \n",
      " 03  04  05  06  07  08  09 \n",
      " 10  11  12  13  14  15  16 \n",
      " 17  18  19  20  21  22  23 \n",
      " 24  25  26  27  28  29  30 \n",
      "\n",
      "          May 2023\n",
      "Mon Tue Wed Thu Fri Sat Sun\n",
      " 01  02  03  04  05  06  07 \n",
      " 08  09  10  11  12  13  14 \n",
      " 15  16  17  18  19  20  21 \n",
      " 22  23  24  25  26  27  28 \n",
      " 29  30  31 \n",
      "\n",
      "          Jun 2023\n",
      "Mon Tue Wed Thu Fri Sat Sun\n",
      "             01  02  03  04 \n",
      " 05  06  07  08  09  10  11 \n",
      " 12  13  14  15  16  17  18 \n",
      " 19  20  21  22  23  24  25 \n",
      " 26  27  28  29  30 \n",
      "\n",
      "          Jul 2023\n",
      "Mon Tue Wed Thu Fri Sat Sun\n",
      "                     01  02 \n",
      " 03  04  05  06  07  08  09 \n",
      " 10  11  12  13  14  15  16 \n",
      " 17  18  19  20  21  22  23 \n",
      " 24  25  26  27  28  29  30 \n",
      " 31 \n",
      "\n",
      "          Aug 2023\n",
      "Mon Tue Wed Thu Fri Sat Sun\n",
      "     01  02  03  04  05  06 \n",
      " 07  08  09  10  11  12  13 \n",
      " 14  15  16  17  18  19  20 \n",
      " 21  22  23  24  25  26  27 \n",
      " 28  29  30  31 \n",
      "\n",
      "          Sep 2023\n",
      "Mon Tue Wed Thu Fri Sat Sun\n",
      "                 01  02  03 \n",
      " 04  05  06  07  08  09  10 \n",
      " 11  12  13  14  15  16  17 \n",
      " 18  19  20  21  22  23  24 \n",
      " 25  26  27  28  29  30 \n",
      "\n",
      "          Oct 2023\n",
      "Mon Tue Wed Thu Fri Sat Sun\n",
      "                         01 \n",
      " 02  03  04  05  06  07  08 \n",
      " 09  10  11  12  13  14  15 \n",
      " 16  17  18  19  20  21  22 \n",
      " 23  24  25  26  27  28  29 \n",
      " 30  31 \n",
      "\n",
      "          Nov 2023\n",
      "Mon Tue Wed Thu Fri Sat Sun\n",
      "         01  02  03  04  05 \n",
      " 06  07  08  09  10  11  12 \n",
      " 13  14  15  16  17  18  19 \n",
      " 20  21  22  23  24  25  26 \n",
      " 27  28  29  30 \n",
      "\n",
      "          Dec 2023\n",
      "Mon Tue Wed Thu Fri Sat Sun\n",
      "                 01  02  03 \n",
      " 04  05  06  07  08  09  10 \n",
      " 11  12  13  14  15  16  17 \n",
      " 18  19  20  21  22  23  24 \n",
      " 25  26  27  28  29  30  31 \n",
      "\n"
     ]
    }
   ],
   "source": [
    "coty(2023)"
   ]
  },
  {
   "cell_type": "code",
   "execution_count": null,
   "id": "b14505f8-885a-414d-ab85-42f5f0fc394c",
   "metadata": {},
   "outputs": [],
   "source": []
  },
  {
   "cell_type": "code",
   "execution_count": null,
   "id": "9543863e-b37b-4d58-9f6f-55f0a635651b",
   "metadata": {},
   "outputs": [],
   "source": []
  }
 ],
 "metadata": {
  "kernelspec": {
   "display_name": "Python 3 (ipykernel)",
   "language": "python",
   "name": "python3"
  },
  "language_info": {
   "codemirror_mode": {
    "name": "ipython",
    "version": 3
   },
   "file_extension": ".py",
   "mimetype": "text/x-python",
   "name": "python",
   "nbconvert_exporter": "python",
   "pygments_lexer": "ipython3",
   "version": "3.8.10"
  }
 },
 "nbformat": 4,
 "nbformat_minor": 5
}
