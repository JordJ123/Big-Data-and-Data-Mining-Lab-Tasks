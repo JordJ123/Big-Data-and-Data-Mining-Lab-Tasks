{
 "cells": [
  {
   "cell_type": "code",
   "execution_count": null,
   "id": "84698aa7-0494-4d53-988f-3491123f36de",
   "metadata": {},
   "outputs": [],
   "source": [
    "from matplotlib import pyplot\n",
    "import numpy"
   ]
  },
  {
   "cell_type": "markdown",
   "id": "fbf22fb6-f2d1-4a6b-bd23-fc79cab4282e",
   "metadata": {},
   "source": [
    "# Linear Algebra"
   ]
  },
  {
   "cell_type": "code",
   "execution_count": null,
   "id": "c508dd89-10c3-4297-848e-4cd9a43e635d",
   "metadata": {},
   "outputs": [],
   "source": [
    "#Set Up\n",
    "a = numpy.matrix([[2, -1], \n",
    "                  [-1, 2]])\n",
    "b = numpy.array([0, 3])"
   ]
  },
  {
   "cell_type": "code",
   "execution_count": null,
   "id": "66da5e25-7119-4dbc-9446-29cdb3b2d4d9",
   "metadata": {},
   "outputs": [
    {
     "name": "stdout",
     "output_type": "stream",
     "text": [
      "[[ 2 -1]\n",
      " [-1  2]]\n",
      "*\n",
      "[1. 2.]\n",
      "=\n",
      "[[ 2. -2.]\n",
      " [-1.  4.]]\n",
      "=\n",
      "[0. 3.]\n"
     ]
    }
   ],
   "source": [
    "#Linear Equation Solver\n",
    "x1 = numpy.linalg.solve(a,b)\n",
    "print(a)\n",
    "print(\"*\")\n",
    "print(x1)\n",
    "print(\"=\")\n",
    "print(numpy.multiply(a, x1))\n",
    "print(\"=\")\n",
    "print(numpy.array(numpy.sum(numpy.multiply(a, x1), axis=1)).flatten())"
   ]
  },
  {
   "cell_type": "code",
   "execution_count": null,
   "id": "fa4f7e18-d90f-43e5-84a0-1e6c2557f802",
   "metadata": {},
   "outputs": [
    {
     "name": "stdout",
     "output_type": "stream",
     "text": [
      "X VALUE\n",
      "[[0.66666667 0.33333333]\n",
      " [0.33333333 0.66666667]]\n",
      "*\n",
      "[0 3]\n",
      "=\n",
      "[[0. 1.]\n",
      " [0. 2.]]\n",
      "=\n",
      "[1. 2.]\n",
      "\n",
      "MAIN\n",
      "[[ 2 -1]\n",
      " [-1  2]]\n",
      "*\n",
      "[1. 2.]\n",
      "=\n",
      "[[ 2. -2.]\n",
      " [-1.  4.]]\n",
      "=\n",
      "[0. 3.]\n"
     ]
    }
   ],
   "source": [
    "#Inverse Matrix\n",
    "ainv = numpy.linalg.inv(a)\n",
    "xPre = numpy.multiply(ainv, b)\n",
    "x2 = numpy.array(numpy.sum(numpy.multiply(ainv, b), axis=1)).flatten()\n",
    "\n",
    "#First Print\n",
    "print(\"X VALUE\")\n",
    "print(ainv)\n",
    "print(\"*\")\n",
    "print(b)\n",
    "print(\"=\")\n",
    "print(numpy.multiply(ainv, b))\n",
    "print(\"=\")\n",
    "print(x2)\n",
    "print()\n",
    "\n",
    "#Second Print\n",
    "print(\"MAIN\")\n",
    "print(a)\n",
    "print(\"*\")\n",
    "print(x2)\n",
    "print(\"=\")\n",
    "print(numpy.multiply(a, x2))\n",
    "print(\"=\")\n",
    "print(numpy.array(numpy.sum(numpy.multiply(a, x2), axis=1)).flatten())"
   ]
  },
  {
   "cell_type": "code",
   "execution_count": 90,
   "id": "bc30ee26-bb53-403b-8846-5f2918b0d007",
   "metadata": {},
   "outputs": [
    {
     "name": "stdout",
     "output_type": "stream",
     "text": [
      "va1\n",
      "[[ 2]\n",
      " [-1]]\n",
      "\n",
      "va2\n",
      "[[-1]\n",
      " [ 2]]\n",
      "\n",
      "scaled va1\n",
      "[ 2. -1.]\n",
      "\n",
      "scaled va2\n",
      "[-2. -4.]\n",
      "\n",
      "[ 0. -5.]\n",
      "\n"
     ]
    },
    {
     "data": {
      "image/png": "[encoded data removed]",
      "text/plain": [
       "<Figure size 640x480 with 1 Axes>"
      ]
     },
     "metadata": {},
     "output_type": "display_data"
    }
   ],
   "source": [
    "# #Values\n",
    "va1 = a[:,0]\n",
    "va2 = a[:,1]\n",
    "sv1 = numpy.multiply(va1, x1[0])\n",
    "sv2 = numpy.multiply(va2, x1[1])\n",
    "lc = sv1 + sv2\n",
    "\n",
    "print(va1)\n",
    "print()\n",
    "print(va2)\n",
    "print()\n",
    "print(sv1)\n",
    "print()\n",
    "print(sv2)\n",
    "print()\n",
    "print(lc)\n",
    "print()\n",
    "\n",
    "#Pyplot\n",
    "pyplot.plot([0, sv2[0]], [0, sv2[1]], label=\"scale va2\")\n",
    "pyplot.plot([0, va1[0]], [0, va1[1]], label=\"va1\")\n",
    "pyplot.plot([0, sv1[0]], [0, sv1[1]], 'b--', label=\"scale va1\")\n",
    "pyplot.plot([0, va2[0]], [0, va2[1]], 'k--', label=\"va2\")\n",
    "pyplot.plot([0, lc[0]], [0, lc[1]])\n",
    "# pyplot.plot([2, -2], [-1, 4])\n",
    "# pyplot.plot(va1, va2, sv1, sv2, lc)\n",
    "pyplot.legend()\n",
    "pyplot.grid()\n",
    "pyplot.show()"
   ]
  },
  {
   "cell_type": "code",
   "execution_count": null,
   "id": "6ec2aa91-7906-4a0c-8b88-3b05bc39a3a9",
   "metadata": {},
   "outputs": [],
   "source": []
  },
  {
   "cell_type": "code",
   "execution_count": null,
   "id": "c0578599-b27f-4f0b-83ac-6dab6e558596",
   "metadata": {},
   "outputs": [],
   "source": []
  }
 ],
 "metadata": {
  "kernelspec": {
   "display_name": "Python 3 (ipykernel)",
   "language": "python",
   "name": "python3"
  },
  "language_info": {
   "codemirror_mode": {
    "name": "ipython",
    "version": 3
   },
   "file_extension": ".py",
   "mimetype": "text/x-python",
   "name": "python",
   "nbconvert_exporter": "python",
   "pygments_lexer": "ipython3",
   "version": "3.8.10"
  }
 },
 "nbformat": 4,
 "nbformat_minor": 5
}
